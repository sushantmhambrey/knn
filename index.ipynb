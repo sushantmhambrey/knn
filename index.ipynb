{
 "cells": [
  {
   "cell_type": "markdown",
   "metadata": {},
   "source": [
    "<p style=background-color:#ff7814;font-weight:bold;font-size:16px;text-align:center;> Introduction to kNN</p>"
   ]
  },
  {
   "cell_type": "markdown",
   "metadata": {},
   "source": [
    "<p style=\"font-family:Georgia;font-size:16px;\">The K-nearest-neighbor (kNN) is one of the most important and simple methods which can be used for both classification and regression problems but is more widely preferred in classification. Although it is simplistic in nature, the KNN algorithm can have better performance levels than many other classifiers’ is usually referred to as a “lazy, non parametric” learning algorithm. A non-parametric technique usually means that it does not assume anything about the data distribution. The structure of the model is defined by the data which is very advantageous when viewed from real world perspective. For these reasons , the rudimentary kNN algorithm can be considered as a good starting point for classification problems containing little or no prior knowledge about distribution data.\n",
    "One of the most important test cases of kNN can be determining similarity of documents(sometimes referred to as “Concept Search”).Though kNN is easy to use and understand it has its own downfalls.As compared to neural network or SVM , kNN performs really slowly and can sometimes be less accurate.</p>\n"
   ]
  },
  {
   "cell_type": "markdown",
   "metadata": {},
   "source": [
    "<p style=\"font-family:Georgia;font-size:15.3px;\">The kNN working is really simple. There is minimal training and heavy testing involved. When we need to make a prediction, the k-most similar neighbors are located and an equivalent prediction is made. It is like forming a “majority vote” between the k most similar instances to a new unobserved instance. Similarity is the distance metric between two data points. There are a number of distance measures available each with better accuracy than other depending on the given use cases and the hyperparameter selections. Usually a good starting point of distance measure in case of tabular data is the “Euclidian distance”</p>"
   ]
  },
  {
   "cell_type": "markdown",
   "metadata": {},
   "source": [
    "<p style=background-color:#6aa2de;font-weight:bold;font-size:15px;text-align:center;>Exporting the necessary libraries</p>"
   ]
  },
  {
   "cell_type": "code",
   "execution_count": 1,
   "metadata": {},
   "outputs": [],
   "source": [
    "import numpy as np \n",
    "import pandas as pd\n",
    "import seaborn as sns\n",
    "from collections import Counter"
   ]
  },
  {
   "cell_type": "markdown",
   "metadata": {},
   "source": [
    "<p style=\"font-family:Georgia;font-size:15px;\">The assignment is about leveraging kNN in Python on a simple classification problem.The dataset at hand is the “Iris Flower Dataset(IFD)”  taken from UC Irvine Machine Learning Repository. The set has 3 Iris species((Iris setosa, Iris virginica and Iris versicolor) each having 50 observations. We have 4 features(attributes): 2 length(sepal_length,petal_length) and 2 width(sepal_width,petal_width)</p>"
   ]
  },
  {
   "cell_type": "code",
   "execution_count": 2,
   "metadata": {},
   "outputs": [],
   "source": [
    "iris = pd.read_csv(\"iris.csv\")"
   ]
  },
  {
   "cell_type": "markdown",
   "metadata": {},
   "source": [
    "<p style=background-color:#6aa2de;font-weight:bold;font-size:15px;text-align:center;> Observing the data. Iris dataset consists of four features and one class attribute</p>"
   ]
  },
  {
   "cell_type": "code",
   "execution_count": 3,
   "metadata": {},
   "outputs": [
    {
     "data": {
      "text/html": [
       "<div>\n",
       "<style scoped>\n",
       "    .dataframe tbody tr th:only-of-type {\n",
       "        vertical-align: middle;\n",
       "    }\n",
       "\n",
       "    .dataframe tbody tr th {\n",
       "        vertical-align: top;\n",
       "    }\n",
       "\n",
       "    .dataframe thead th {\n",
       "        text-align: right;\n",
       "    }\n",
       "</style>\n",
       "<table border=\"1\" class=\"dataframe\">\n",
       "  <thead>\n",
       "    <tr style=\"text-align: right;\">\n",
       "      <th></th>\n",
       "      <th>sepal_length</th>\n",
       "      <th>sepal_width</th>\n",
       "      <th>petal_length</th>\n",
       "      <th>petal_width</th>\n",
       "      <th>class</th>\n",
       "    </tr>\n",
       "  </thead>\n",
       "  <tbody>\n",
       "    <tr>\n",
       "      <td>0</td>\n",
       "      <td>5.1</td>\n",
       "      <td>3.5</td>\n",
       "      <td>1.4</td>\n",
       "      <td>0.2</td>\n",
       "      <td>Iris-setosa</td>\n",
       "    </tr>\n",
       "    <tr>\n",
       "      <td>1</td>\n",
       "      <td>4.9</td>\n",
       "      <td>3.0</td>\n",
       "      <td>1.4</td>\n",
       "      <td>0.2</td>\n",
       "      <td>Iris-setosa</td>\n",
       "    </tr>\n",
       "    <tr>\n",
       "      <td>2</td>\n",
       "      <td>4.7</td>\n",
       "      <td>3.2</td>\n",
       "      <td>1.3</td>\n",
       "      <td>0.2</td>\n",
       "      <td>Iris-setosa</td>\n",
       "    </tr>\n",
       "    <tr>\n",
       "      <td>3</td>\n",
       "      <td>4.6</td>\n",
       "      <td>3.1</td>\n",
       "      <td>1.5</td>\n",
       "      <td>0.2</td>\n",
       "      <td>Iris-setosa</td>\n",
       "    </tr>\n",
       "    <tr>\n",
       "      <td>4</td>\n",
       "      <td>5.0</td>\n",
       "      <td>3.6</td>\n",
       "      <td>1.4</td>\n",
       "      <td>0.2</td>\n",
       "      <td>Iris-setosa</td>\n",
       "    </tr>\n",
       "  </tbody>\n",
       "</table>\n",
       "</div>"
      ],
      "text/plain": [
       "   sepal_length  sepal_width  petal_length  petal_width        class\n",
       "0           5.1          3.5           1.4          0.2  Iris-setosa\n",
       "1           4.9          3.0           1.4          0.2  Iris-setosa\n",
       "2           4.7          3.2           1.3          0.2  Iris-setosa\n",
       "3           4.6          3.1           1.5          0.2  Iris-setosa\n",
       "4           5.0          3.6           1.4          0.2  Iris-setosa"
      ]
     },
     "execution_count": 3,
     "metadata": {},
     "output_type": "execute_result"
    }
   ],
   "source": [
    "iris.head()\n"
   ]
  },
  {
   "cell_type": "code",
   "execution_count": 4,
   "metadata": {},
   "outputs": [
    {
     "data": {
      "text/html": [
       "<div>\n",
       "<style scoped>\n",
       "    .dataframe tbody tr th:only-of-type {\n",
       "        vertical-align: middle;\n",
       "    }\n",
       "\n",
       "    .dataframe tbody tr th {\n",
       "        vertical-align: top;\n",
       "    }\n",
       "\n",
       "    .dataframe thead th {\n",
       "        text-align: right;\n",
       "    }\n",
       "</style>\n",
       "<table border=\"1\" class=\"dataframe\">\n",
       "  <thead>\n",
       "    <tr style=\"text-align: right;\">\n",
       "      <th></th>\n",
       "      <th>sepal_length</th>\n",
       "      <th>sepal_width</th>\n",
       "      <th>petal_length</th>\n",
       "      <th>petal_width</th>\n",
       "    </tr>\n",
       "  </thead>\n",
       "  <tbody>\n",
       "    <tr>\n",
       "      <td>count</td>\n",
       "      <td>150.000000</td>\n",
       "      <td>150.000000</td>\n",
       "      <td>150.000000</td>\n",
       "      <td>150.000000</td>\n",
       "    </tr>\n",
       "    <tr>\n",
       "      <td>mean</td>\n",
       "      <td>5.843333</td>\n",
       "      <td>3.054000</td>\n",
       "      <td>3.758667</td>\n",
       "      <td>1.198667</td>\n",
       "    </tr>\n",
       "    <tr>\n",
       "      <td>std</td>\n",
       "      <td>0.828066</td>\n",
       "      <td>0.433594</td>\n",
       "      <td>1.764420</td>\n",
       "      <td>0.763161</td>\n",
       "    </tr>\n",
       "    <tr>\n",
       "      <td>min</td>\n",
       "      <td>4.300000</td>\n",
       "      <td>2.000000</td>\n",
       "      <td>1.000000</td>\n",
       "      <td>0.100000</td>\n",
       "    </tr>\n",
       "    <tr>\n",
       "      <td>25%</td>\n",
       "      <td>5.100000</td>\n",
       "      <td>2.800000</td>\n",
       "      <td>1.600000</td>\n",
       "      <td>0.300000</td>\n",
       "    </tr>\n",
       "    <tr>\n",
       "      <td>50%</td>\n",
       "      <td>5.800000</td>\n",
       "      <td>3.000000</td>\n",
       "      <td>4.350000</td>\n",
       "      <td>1.300000</td>\n",
       "    </tr>\n",
       "    <tr>\n",
       "      <td>75%</td>\n",
       "      <td>6.400000</td>\n",
       "      <td>3.300000</td>\n",
       "      <td>5.100000</td>\n",
       "      <td>1.800000</td>\n",
       "    </tr>\n",
       "    <tr>\n",
       "      <td>max</td>\n",
       "      <td>7.900000</td>\n",
       "      <td>4.400000</td>\n",
       "      <td>6.900000</td>\n",
       "      <td>2.500000</td>\n",
       "    </tr>\n",
       "  </tbody>\n",
       "</table>\n",
       "</div>"
      ],
      "text/plain": [
       "       sepal_length  sepal_width  petal_length  petal_width\n",
       "count    150.000000   150.000000    150.000000   150.000000\n",
       "mean       5.843333     3.054000      3.758667     1.198667\n",
       "std        0.828066     0.433594      1.764420     0.763161\n",
       "min        4.300000     2.000000      1.000000     0.100000\n",
       "25%        5.100000     2.800000      1.600000     0.300000\n",
       "50%        5.800000     3.000000      4.350000     1.300000\n",
       "75%        6.400000     3.300000      5.100000     1.800000\n",
       "max        7.900000     4.400000      6.900000     2.500000"
      ]
     },
     "execution_count": 4,
     "metadata": {},
     "output_type": "execute_result"
    }
   ],
   "source": [
    "iris.describe()\n"
   ]
  },
  {
   "cell_type": "markdown",
   "metadata": {},
   "source": [
    "<p style=background-color:#6aa2de;font-weight:bold;font-size:15px;text-align:center;> Analysing the data and plotting various iris classes in swarmplot.</p>\n"
   ]
  },
  {
   "cell_type": "markdown",
   "metadata": {},
   "source": [
    "<p style=font-weight:bold;> From the plot it can be observed that iris setosa has the least length range while virginica has the longest range</p>"
   ]
  },
  {
   "cell_type": "code",
   "execution_count": 5,
   "metadata": {},
   "outputs": [
    {
     "data": {
      "text/plain": [
       "<matplotlib.axes._subplots.AxesSubplot at 0x2a1cbef8c08>"
      ]
     },
     "execution_count": 5,
     "metadata": {},
     "output_type": "execute_result"
    },
    {
     "data": {
      "image/png": "[encoded data removed]",
      "text/plain": [
       "<Figure size 432x288 with 1 Axes>"
      ]
     },
     "metadata": {
      "needs_background": "light"
     },
     "output_type": "display_data"
    }
   ],
   "source": [
    "sns.swarmplot(x='class',y='sepal_length',data=iris)"
   ]
  },
  {
   "cell_type": "code",
   "execution_count": 6,
   "metadata": {},
   "outputs": [
    {
     "data": {
      "text/plain": [
       "class\n",
       "Iris-setosa        50\n",
       "Iris-versicolor    50\n",
       "Iris-virginica     50\n",
       "dtype: int64"
      ]
     },
     "execution_count": 6,
     "metadata": {},
     "output_type": "execute_result"
    }
   ],
   "source": [
    "iris.groupby('class').size()"
   ]
  },
  {
   "cell_type": "code",
   "execution_count": 7,
   "metadata": {},
   "outputs": [
    {
     "data": {
      "text/plain": [
       "150"
      ]
     },
     "execution_count": 7,
     "metadata": {},
     "output_type": "execute_result"
    }
   ],
   "source": [
    "from sklearn.preprocessing import LabelEncoder\n",
    "feature_columns = ['sepal_length', 'sepal_width', 'petal_length','petal_width']\n",
    "X = np.array(iris[feature_columns])\n",
    "y = np.array(iris['class'])\n",
    "np.size(y)"
   ]
  },
  {
   "cell_type": "markdown",
   "metadata": {},
   "source": [
    "<p>The last column of the dataset represents the class values of the corresponding data.We need to convert this into integer for prediction</p>"
   ]
  },
  {
   "cell_type": "code",
   "execution_count": 8,
   "metadata": {},
   "outputs": [],
   "source": [
    "last_column= LabelEncoder()\n",
    "y = last_column.fit_transform(y)\n",
    "y\n",
    "from sklearn.model_selection import train_test_split"
   ]
  },
  {
   "cell_type": "markdown",
   "metadata": {},
   "source": [
    "<p style=font-weight:bold;>We can observe that the classes are assigned integer values respectively. Example:: Iris-Setosa becomes 0, Versicolor becomes 1 and Virginica becomes 2 </p>"
   ]
  },
  {
   "cell_type": "code",
   "execution_count": 9,
   "metadata": {},
   "outputs": [],
   "source": [
    "X_dev, X_test, y_dev, y_test = train_test_split(X, y, test_size = 0.35)"
   ]
  },
  {
   "cell_type": "markdown",
   "metadata": {},
   "source": [
    "<p style=background-color:#6aa2de;font-weight:bold;font-size:15px;text-align:center;> Writing kNN fit from scratch </p>"
   ]
  },
  {
   "cell_type": "markdown",
   "metadata": {},
   "source": [
    "<p style=font-weight:bold;> Here is where we implement the actual magic. In a nutshell , a particular row is measure against the rest of the development set and a majority vote is returned.As we have seen earlier kNN is a Lazy algorithm , it doesnt require an implementation of a train function--which is just learning the data.</p>"
   ]
  },
  {
   "cell_type": "code",
   "execution_count": 10,
   "metadata": {},
   "outputs": [],
   "source": [
    "from numpy import dot\n",
    "from numpy.linalg import norm\n",
    "\n",
    "#----------EUCLIDIAN DISTANCE------------------------\n",
    "def My_knn_fit(X_dev, y_dev, x_test, k,measure):\n",
    "    if(measure==\"euc\"):\n",
    "        dist_euc = []\n",
    "        class_output = []\n",
    "\n",
    "        for i in range(len(X_dev)):\n",
    "            dist_euc.append([np.sqrt(np.sum(np.square(x_test - X_dev[i, :]))),i])\n",
    "            \n",
    "        dist_euc_sort = sorted(dist_euc)\n",
    "\n",
    "        for i in range(k):\n",
    "            class_in = dist_euc_sort[i][1]\n",
    "            class_output.append(y_dev[class_in])\n",
    "        majority_vote=Counter(class_output).most_common(1)[0][0]\n",
    "        \n",
    "        return majority_vote\n",
    "    \n",
    "#------------COSINE DISTANCE---------------------------    \n",
    "    elif(measure==\"cosine\"):\n",
    "        dist_cos = []\n",
    "        class_output = []\n",
    "\n",
    "        for i in range(len(X_dev)):\n",
    "            cos_sim = np.sum((dot(x_test,X_dev[i, :]))/(norm(X_dev[i, :])*norm(x_test)))\n",
    "            cos_dis=(1-cos_sim)\n",
    "            dist_cos.append([(cos_dis),i])\n",
    "            \n",
    "        dist_cos_sort = sorted(dist_cos)\n",
    "        \n",
    "        for i in range(k):\n",
    "            class_in = dist_cos_sort[i][1]\n",
    "            class_output.append(y_dev[class_in])\n",
    "        majority_vote=Counter(class_output).most_common(1)[0][0]   \n",
    "        return majority_vote\n",
    "    \n",
    "#------------NORMALIZED-EUCLIDIAN DISTANCE-------------\n",
    "    elif(measure==\"norm_euc\"):     \n",
    "    #0.5*var(X-Y)/var(x)-var(y)\n",
    "        dist_norm = []\n",
    "        class_output = []\n",
    "        for i in range(len(X_dev)):\n",
    "            dist_norm.append([np.sum((np.var(X_dev[i, :]-x_test)/(np.var(X_dev[i,:]-np.var(x_test))))),i])\n",
    "    \n",
    "        dist_norm_sort = sorted(dist_norm)\n",
    "        for i in range(k):\n",
    "            class_in = dist_norm_sort[i][1]\n",
    "            class_output.append(y_dev[class_in])\n",
    "        majority_vote=Counter(class_output).most_common(1)[0][0]     \n",
    "        return majority_vote\n",
    "\n",
    "        "
   ]
  },
  {
   "cell_type": "markdown",
   "metadata": {},
   "source": [
    "<p style=background-color:#6aa2de;font-weight:bold;font-size:15px;text-align:center;>Implementing kNN predict function </p>"
   ]
  },
  {
   "cell_type": "code",
   "execution_count": 11,
   "metadata": {},
   "outputs": [],
   "source": [
    "def My_KNN_predict(X_dev, y_dev, X_test, k):\n",
    "\n",
    "    pred_euc = []\n",
    "    pred_cosine=[]\n",
    "    pred_norm=[]\n",
    "    for i in range(len(X_test)):\n",
    "        pred_euc.append(My_knn_fit(X_dev, y_dev, X_test[i, :], k,\"euc\"))\n",
    "        pred_cosine.append(My_knn_fit(X_dev, y_dev, X_test[i, :], k,\"cosine\"))\n",
    "        pred_norm.append(My_knn_fit(X_dev, y_dev, X_test[i, :], k,\"norm_euc\"))\n",
    "    pred_euc=np.array(pred_euc)\n",
    "    pred_cosine=np.array(pred_cosine)\n",
    "    pred_norm=np.array(pred_norm)\n",
    "    #print(\"cos:\",pred_cosine)\n",
    "    #print(\"norm:\",pred_norm)\n",
    "    return (pred_euc,pred_cosine,pred_norm)"
   ]
  },
  {
   "cell_type": "markdown",
   "metadata": {},
   "source": [
    "<p> Let's try out a random input taken from the csv file to see if the predcition is done correctly.The random input taken belong to setosa which corresponds to class 0 </p>"
   ]
  },
  {
   "cell_type": "code",
   "execution_count": 12,
   "metadata": {},
   "outputs": [
    {
     "name": "stdout",
     "output_type": "stream",
     "text": [
      "iris-setosa\n"
     ]
    }
   ],
   "source": [
    "ran=[5.1,3.5,1.4,0.2]\n",
    "predin=My_knn_fit(X_dev,y_dev,ran,5,\"euc\")\n",
    "if(predin==0):\n",
    "    print(\"iris-setosa\")\n",
    "elif(predin==1):\n",
    "    print(\"iris-versicolor\")\n",
    "else:\n",
    "    print(\"iris-virginica\")\n"
   ]
  },
  {
   "cell_type": "code",
   "execution_count": 13,
   "metadata": {},
   "outputs": [
    {
     "name": "stdout",
     "output_type": "stream",
     "text": [
      "Euclidian accuracy: [98.11320754716981, 98.11320754716981, 98.11320754716981, 96.22641509433963]\n",
      "Cosine accuracy: [94.33962264150944, 96.22641509433963, 98.11320754716981, 98.11320754716981]\n",
      "Normalised-Euclidian: [98.11320754716981, 96.22641509433963, 98.11320754716981, 94.33962264150944]\n"
     ]
    }
   ],
   "source": [
    "def accuracy_scor(y_test, prediction):\n",
    "    correct = 0\n",
    "    n = len(y_test)\n",
    "    for i in range(n):\n",
    "        if(y_test[i]==prediction[i]):\n",
    "            correct+=1\n",
    "    accuracy_sc = (correct*100)/n\n",
    "    return accuracy_sc\n",
    "acc_cosine=[]\n",
    "acc_euc=[]\n",
    "acc_norm=[]\n",
    "for k in range(1,8,2):\n",
    "    pred_euc,pred_cosine,pred_norm = My_KNN_predict(X_dev, y_dev, X_test,k)\n",
    "    # evaluating accuracy\n",
    "    accuracy1 = accuracy_scor(y_test, pred_euc)\n",
    "    acc_euc.append(accuracy1)\n",
    "    accuracy2=accuracy_scor(y_test, pred_cosine)\n",
    "    acc_cosine.append(accuracy2)\n",
    "    accuracy3=accuracy_scor(y_test, pred_norm)\n",
    "    acc_norm.append(accuracy3)\n",
    "print(\"Euclidian accuracy:\",(acc_euc))\n",
    "print(\"Cosine accuracy:\",(acc_cosine))\n",
    "print(\"Normalised-Euclidian:\",(acc_norm))"
   ]
  },
  {
   "cell_type": "code",
   "execution_count": 14,
   "metadata": {},
   "outputs": [
    {
     "data": {
      "text/plain": [
       "[Text(0, 0.5, 'Accuracy(Euclidian)'), Text(0.5, 0, 'K-value')]"
      ]
     },
     "execution_count": 14,
     "metadata": {},
     "output_type": "execute_result"
    },
    {
     "data": {
      "image/png": "[encoded data removed]",
      "text/plain": [
       "<Figure size 432x288 with 1 Axes>"
      ]
     },
     "metadata": {},
     "output_type": "display_data"
    }
   ],
   "source": [
    "k=[1,3,5,7]\n",
    "sns.set(style=\"whitegrid\")\n",
    "ax=sns.barplot(x=k, y=acc_euc, data=iris)\n",
    "ax.set(ylim=(85, 100))\n",
    "ax.set(xlabel='K-value', ylabel='Accuracy(Euclidian)')"
   ]
  },
  {
   "cell_type": "code",
   "execution_count": 15,
   "metadata": {},
   "outputs": [
    {
     "data": {
      "text/plain": [
       "[Text(0, 0.5, 'Accuracy(Cosine)'), Text(0.5, 0, 'K-value')]"
      ]
     },
     "execution_count": 15,
     "metadata": {},
     "output_type": "execute_result"
    },
    {
     "data": {
      "image/png": "[encoded data removed]",
      "text/plain": [
       "<Figure size 432x288 with 1 Axes>"
      ]
     },
     "metadata": {},
     "output_type": "display_data"
    }
   ],
   "source": [
    "k=[1,3,5,7]\n",
    "sns.set(style=\"whitegrid\")\n",
    "ax=sns.barplot(x=k, y=acc_cosine, data=iris)\n",
    "ax.set(ylim=(85,100))\n",
    "ax.set(xlabel='K-value', ylabel='Accuracy(Cosine)')"
   ]
  },
  {
   "cell_type": "code",
   "execution_count": 16,
   "metadata": {},
   "outputs": [
    {
     "data": {
      "text/plain": [
       "[Text(0, 0.5, 'Accuracy(Normalized Euclidian)'), Text(0.5, 0, 'K-value')]"
      ]
     },
     "execution_count": 16,
     "metadata": {},
     "output_type": "execute_result"
    },
    {
     "data": {
      "image/png": "[encoded data removed]",
      "text/plain": [
       "<Figure size 432x288 with 1 Axes>"
      ]
     },
     "metadata": {},
     "output_type": "display_data"
    }
   ],
   "source": [
    "k=[1,3,5,7]\n",
    "sns.set(style=\"whitegrid\")\n",
    "ax=sns.barplot(x=k, y=acc_cosine, data=iris)\n",
    "ax.set(ylim=(85,100))\n",
    "ax.set(xlabel='K-value', ylabel='Accuracy(Normalized Euclidian)')"
   ]
  },
  {
   "cell_type": "markdown",
   "metadata": {},
   "source": [
    "<p style=font-weight:bold;>We see the various accuracies we get on euclidian , cosine and normalised euclidian distances with the various k values of 1,3,5,7.Let's see what happens when we run the fit and predict on hyperparameter K value from 1 to 20</p>"
   ]
  },
  {
   "cell_type": "code",
   "execution_count": 17,
   "metadata": {},
   "outputs": [
    {
     "name": "stdout",
     "output_type": "stream",
     "text": [
      "Euclidian accuracy: 100.0 9\n",
      "Cosine accuracy: 98.11320754716981 5\n",
      "Normalised-Euclidian: 98.11320754716981 1\n"
     ]
    }
   ],
   "source": [
    "acc_cosine1=[]\n",
    "acc_euc1=[]\n",
    "acc_norm1=[]\n",
    "for k in range(1,20,1):\n",
    "    pred_euc,pred_cosine,pred_norm = My_KNN_predict(X_dev, y_dev, X_test,k)\n",
    "    # evaluating accuracy\n",
    "    accuracy1 = accuracy_scor(y_test, pred_euc)\n",
    "    acc_euc1.append(accuracy1)\n",
    "    accuracy2=accuracy_scor(y_test, pred_cosine)\n",
    "    acc_cosine1.append(accuracy2)\n",
    "    accuracy3=accuracy_scor(y_test, pred_norm)\n",
    "    acc_norm1.append(accuracy3)\n",
    "print(\"Euclidian accuracy:\",max(acc_euc1),acc_euc1.index(max(acc_euc1))+1)\n",
    "print(\"Cosine accuracy:\",max(acc_cosine1),acc_cosine1.index(max(acc_cosine1))+1)\n",
    "print(\"Normalised-Euclidian:\",max(acc_norm1),acc_norm1.index(max(acc_norm1))+1)"
   ]
  },
  {
   "cell_type": "markdown",
   "metadata": {},
   "source": [
    "<p style=font-weight:bold;> We can see that considering the given parameters we get optimal values at k=5 for cosine similarity and if we iterate over values of k on 1 to 20 we get perfect scores which maybe due to perfectly labelled data or sometimes overfitting."
   ]
  },
  {
   "cell_type": "code",
   "execution_count": 18,
   "metadata": {},
   "outputs": [
    {
     "name": "stdout",
     "output_type": "stream",
     "text": [
      "Final accuracy of the optimal hyperparameter wrt to test set: 98.11320754716981\n"
     ]
    }
   ],
   "source": [
    "def My_KNN_predict_test(X_dev, y_dev, X_test, k):\n",
    "    pred_cosine=[]\n",
    "    for i in range(len(X_test)):\n",
    "        pred_cosine.append(My_knn_fit(X_dev, y_dev, X_test[i, :], k,\"cosine\"))\n",
    "    pred_cosine=np.array(pred_cosine)\n",
    "    #print(\"cos:\",pred_cosine)\n",
    "    #print(\"norm:\",pred_norm)\n",
    "    return (pred_euc,pred_cosine,pred_norm)\n",
    "print(\"Final accuracy of the optimal hyperparameter wrt to test set:\",acc_cosine[2])\n",
    "def My_knn_fit_test(X_dev, y_dev, x_test, k,measure):\n",
    "        if(measure==\"cosine\"):\n",
    "            dist_cos = []\n",
    "            class_output = []\n",
    "\n",
    "        for i in range(len(X_dev)):\n",
    "            cos_sim = np.sum((dot(x_test,X_dev[i, :]))/(norm(X_dev[i, :])*norm(x_test)))\n",
    "            cos_dis=(1-cos_sim)\n",
    "            dist_cos.append([(cos_dis),i])\n",
    "            \n",
    "        dist_cos_sort = sorted(dist_cos)\n",
    "        \n",
    "        for i in range(k):\n",
    "            class_in = dist_cos_sort[i][1]\n",
    "            class_output.append(y_dev[class_in])\n",
    "        majority_vote=Counter(class_output).most_common(1)[0][0]   \n",
    "        return majority_vote\n",
    "    "
   ]
  },
  {
   "cell_type": "markdown",
   "metadata": {},
   "source": [
    "<p  style=\"font-family:Georgia;font-size:16px;\"> As we can already see , one of the most advantageous features of kNN apart from being simple and easy to understand is that requires minimal to no training time and serves as a good starting point in learning algorithms.We also saw that though \"COSINE SIMILARITY WITH A HYPERPARAMTER OF 5\" performed the best with an almost perfect accuracy , it took a lot of time to process as might have compared to other algorithms.Some of the improvements that can be done are using other distance metrics to measure perfomance or using dimensionality reduction techniques depending on the dataset.</p>"
   ]
  },
  {
   "cell_type": "code",
   "execution_count": null,
   "metadata": {},
   "outputs": [],
   "source": []
  }
 ],
 "metadata": {
  "kernelspec": {
   "display_name": "Python 3",
   "language": "python",
   "name": "python3"
  },
  "language_info": {
   "codemirror_mode": {
    "name": "ipython",
    "version": 3
   },
   "file_extension": ".py",
   "mimetype": "text/x-python",
   "name": "python",
   "nbconvert_exporter": "python",
   "pygments_lexer": "ipython3",
   "version": "3.7.4"
  }
 },
 "nbformat": 4,
 "nbformat_minor": 4
}
